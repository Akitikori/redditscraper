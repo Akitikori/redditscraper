{
  "nbformat": 4,
  "nbformat_minor": 0,
  "metadata": {
    "colab": {
      "provenance": [],
      "authorship_tag": "ABX9TyMUg7Izc7n33gMunPbLQn6j",
      "include_colab_link": true
    },
    "kernelspec": {
      "name": "python3",
      "display_name": "Python 3"
    },
    "language_info": {
      "name": "python"
    }
  },
  "cells": [
    {
      "cell_type": "markdown",
      "metadata": {
        "id": "view-in-github",
        "colab_type": "text"
      },
      "source": [
        "<a href=\"https://colab.research.google.com/github/Akitikori/redditscraper/blob/main/Data_from_reddit.ipynb\" target=\"_parent\"><img src=\"https://colab.research.google.com/assets/colab-badge.svg\" alt=\"Open In Colab\"/></a>"
      ]
    },
    {
      "cell_type": "code",
      "execution_count": 7,
      "metadata": {
        "colab": {
          "base_uri": "https://localhost:8080/"
        },
        "id": "-lPc6wvCIEJn",
        "outputId": "cb3c2d60-5be6-473a-d8fc-6c41b5245775"
      },
      "outputs": [
        {
          "output_type": "stream",
          "name": "stdout",
          "text": [
            "Requirement already satisfied: praw in /usr/local/lib/python3.10/dist-packages (7.8.1)\n",
            "Requirement already satisfied: prawcore<3,>=2.4 in /usr/local/lib/python3.10/dist-packages (from praw) (2.4.0)\n",
            "Requirement already satisfied: update_checker>=0.18 in /usr/local/lib/python3.10/dist-packages (from praw) (0.18.0)\n",
            "Requirement already satisfied: websocket-client>=0.54.0 in /usr/local/lib/python3.10/dist-packages (from praw) (1.8.0)\n",
            "Requirement already satisfied: requests<3.0,>=2.6.0 in /usr/local/lib/python3.10/dist-packages (from prawcore<3,>=2.4->praw) (2.32.3)\n",
            "Requirement already satisfied: charset-normalizer<4,>=2 in /usr/local/lib/python3.10/dist-packages (from requests<3.0,>=2.6.0->prawcore<3,>=2.4->praw) (3.4.0)\n",
            "Requirement already satisfied: idna<4,>=2.5 in /usr/local/lib/python3.10/dist-packages (from requests<3.0,>=2.6.0->prawcore<3,>=2.4->praw) (3.10)\n",
            "Requirement already satisfied: urllib3<3,>=1.21.1 in /usr/local/lib/python3.10/dist-packages (from requests<3.0,>=2.6.0->prawcore<3,>=2.4->praw) (2.2.3)\n",
            "Requirement already satisfied: certifi>=2017.4.17 in /usr/local/lib/python3.10/dist-packages (from requests<3.0,>=2.6.0->prawcore<3,>=2.4->praw) (2024.12.14)\n"
          ]
        }
      ],
      "source": [
        "# install praw (python reddit api wrapper)\n",
        "!pip install praw"
      ]
    },
    {
      "cell_type": "code",
      "source": [
        "#import praw\n",
        "import praw\n",
        "\n",
        "# instantiate a reddit client with the client id and secret of the app. I have it hardcoded for now, but will make it more secure in the future\n",
        "reddit = praw.Reddit(\n",
        "    client_id = \"FZ_7CrhxPuuKg6yJvOYb7g\",\n",
        "    client_secret = \"eket0FXt6H3df6y60wy-dyNBzI-mvA\",\n",
        "    user_agent = \"afroht data scraping by /u/Akitikori\",\n",
        ")\n",
        "\n",
        "# check if it's a read only instance\n",
        "print(reddit.read_only)"
      ],
      "metadata": {
        "colab": {
          "base_uri": "https://localhost:8080/"
        },
        "id": "qxyJ-qMZWpUi",
        "outputId": "cac09a86-4618-43bd-8d5f-a7acca97f838"
      },
      "execution_count": 2,
      "outputs": [
        {
          "output_type": "stream",
          "name": "stdout",
          "text": [
            "True\n"
          ]
        }
      ]
    },
    {
      "cell_type": "code",
      "source": [
        "# Get the hottest topics from the afro HT group\n",
        "hot_posts = reddit.subreddit('AfroHairTransplant').hot(limit=10)\n",
        "for post in hot_posts:\n",
        "    print(post.title)"
      ],
      "metadata": {
        "colab": {
          "base_uri": "https://localhost:8080/"
        },
        "id": "G2pSnrGwdyxo",
        "outputId": "55e7f680-9a40-4a02-c075-dddb4c5f4262"
      },
      "execution_count": 3,
      "outputs": [
        {
          "output_type": "stream",
          "name": "stderr",
          "text": [
            "WARNING:praw:It appears that you are using PRAW in an asynchronous environment.\n",
            "It is strongly recommended to use Async PRAW: https://asyncpraw.readthedocs.io.\n",
            "See https://praw.readthedocs.io/en/latest/getting_started/multiple_instances.html#discord-bots-and-asynchronous-environments for more info.\n",
            "\n"
          ]
        },
        {
          "output_type": "stream",
          "name": "stdout",
          "text": [
            "Concerning spam posts and reporting\n",
            "HEVA Discount & Affliate Link - For those who already decided to go to HEVA - use this link!\n",
            "Afro hair oral dutasteride + topical minoxidil experience  (2 years post hairline transplant ) \n",
            "Spots / Bumps on Donor. How do I get rid of them post HT?\n",
            "Essentials needed after HT in Turkey?\n",
            "heva clinic 2600 grafts 3 half months post op \n",
            "How long before I can wear a Durag\n",
            "Stressing out\n",
            "4700 grafts Day 14 Scab removal - what oils would you recommend? \n",
            "What did yall do in the airport to not stick out?\n"
          ]
        }
      ]
    },
    {
      "cell_type": "code",
      "source": [
        "# it seems like asyncpraw is recommended for scripts so I'll import that instead\n",
        "!pip install asyncpraw"
      ],
      "metadata": {
        "colab": {
          "base_uri": "https://localhost:8080/"
        },
        "id": "hUtCuOStedpR",
        "outputId": "a4adaf66-f21d-4e1b-acc6-46c6e702c6fe"
      },
      "execution_count": 3,
      "outputs": [
        {
          "output_type": "stream",
          "name": "stdout",
          "text": [
            "Collecting asyncpraw\n",
            "  Downloading asyncpraw-7.8.1-py3-none-any.whl.metadata (9.0 kB)\n",
            "Collecting aiofiles (from asyncpraw)\n",
            "  Downloading aiofiles-24.1.0-py3-none-any.whl.metadata (10 kB)\n",
            "Requirement already satisfied: aiohttp<4 in /usr/local/lib/python3.10/dist-packages (from asyncpraw) (3.11.10)\n",
            "Collecting aiosqlite<=0.17.0 (from asyncpraw)\n",
            "  Downloading aiosqlite-0.17.0-py3-none-any.whl.metadata (4.1 kB)\n",
            "Collecting asyncprawcore<3,>=2.4 (from asyncpraw)\n",
            "  Downloading asyncprawcore-2.4.0-py3-none-any.whl.metadata (5.5 kB)\n",
            "Collecting update_checker>=0.18 (from asyncpraw)\n",
            "  Downloading update_checker-0.18.0-py3-none-any.whl.metadata (2.3 kB)\n",
            "Requirement already satisfied: aiohappyeyeballs>=2.3.0 in /usr/local/lib/python3.10/dist-packages (from aiohttp<4->asyncpraw) (2.4.4)\n",
            "Requirement already satisfied: aiosignal>=1.1.2 in /usr/local/lib/python3.10/dist-packages (from aiohttp<4->asyncpraw) (1.3.2)\n",
            "Requirement already satisfied: async-timeout<6.0,>=4.0 in /usr/local/lib/python3.10/dist-packages (from aiohttp<4->asyncpraw) (4.0.3)\n",
            "Requirement already satisfied: attrs>=17.3.0 in /usr/local/lib/python3.10/dist-packages (from aiohttp<4->asyncpraw) (24.3.0)\n",
            "Requirement already satisfied: frozenlist>=1.1.1 in /usr/local/lib/python3.10/dist-packages (from aiohttp<4->asyncpraw) (1.5.0)\n",
            "Requirement already satisfied: multidict<7.0,>=4.5 in /usr/local/lib/python3.10/dist-packages (from aiohttp<4->asyncpraw) (6.1.0)\n",
            "Requirement already satisfied: propcache>=0.2.0 in /usr/local/lib/python3.10/dist-packages (from aiohttp<4->asyncpraw) (0.2.1)\n",
            "Requirement already satisfied: yarl<2.0,>=1.17.0 in /usr/local/lib/python3.10/dist-packages (from aiohttp<4->asyncpraw) (1.18.3)\n",
            "Requirement already satisfied: typing_extensions>=3.7.2 in /usr/local/lib/python3.10/dist-packages (from aiosqlite<=0.17.0->asyncpraw) (4.12.2)\n",
            "Requirement already satisfied: requests>=2.3.0 in /usr/local/lib/python3.10/dist-packages (from update_checker>=0.18->asyncpraw) (2.32.3)\n",
            "Requirement already satisfied: charset-normalizer<4,>=2 in /usr/local/lib/python3.10/dist-packages (from requests>=2.3.0->update_checker>=0.18->asyncpraw) (3.4.0)\n",
            "Requirement already satisfied: idna<4,>=2.5 in /usr/local/lib/python3.10/dist-packages (from requests>=2.3.0->update_checker>=0.18->asyncpraw) (3.10)\n",
            "Requirement already satisfied: urllib3<3,>=1.21.1 in /usr/local/lib/python3.10/dist-packages (from requests>=2.3.0->update_checker>=0.18->asyncpraw) (2.2.3)\n",
            "Requirement already satisfied: certifi>=2017.4.17 in /usr/local/lib/python3.10/dist-packages (from requests>=2.3.0->update_checker>=0.18->asyncpraw) (2024.12.14)\n",
            "Downloading asyncpraw-7.8.1-py3-none-any.whl (196 kB)\n",
            "\u001b[2K   \u001b[90m━━━━━━━━━━━━━━━━━━━━━━━━━━━━━━━━━━━━━━━━\u001b[0m \u001b[32m196.4/196.4 kB\u001b[0m \u001b[31m4.8 MB/s\u001b[0m eta \u001b[36m0:00:00\u001b[0m\n",
            "\u001b[?25hDownloading aiosqlite-0.17.0-py3-none-any.whl (15 kB)\n",
            "Downloading asyncprawcore-2.4.0-py3-none-any.whl (19 kB)\n",
            "Downloading update_checker-0.18.0-py3-none-any.whl (7.0 kB)\n",
            "Downloading aiofiles-24.1.0-py3-none-any.whl (15 kB)\n",
            "Installing collected packages: aiosqlite, aiofiles, update_checker, asyncprawcore, asyncpraw\n",
            "Successfully installed aiofiles-24.1.0 aiosqlite-0.17.0 asyncpraw-7.8.1 asyncprawcore-2.4.0 update_checker-0.18.0\n"
          ]
        }
      ]
    },
    {
      "cell_type": "code",
      "source": [
        "#import async praw\n",
        "import asyncpraw\n",
        "\n",
        "reddit = asyncpraw.Reddit(\n",
        "    client_id = \"FZ_7CrhxPuuKg6yJvOYb7g\",\n",
        "    client_secret = \"eket0FXt6H3df6y60wy-dyNBzI-mvA\",\n",
        "    user_agent = \"afroht data scraping by /u/Akitikori\",\n",
        ")\n",
        "\n",
        "print(reddit.read_only)"
      ],
      "metadata": {
        "colab": {
          "base_uri": "https://localhost:8080/"
        },
        "id": "gqETzhkHfPHb",
        "outputId": "a1fe2efa-0e70-4db2-bc91-5a96b27a2985"
      },
      "execution_count": 4,
      "outputs": [
        {
          "output_type": "stream",
          "name": "stdout",
          "text": [
            "True\n"
          ]
        }
      ]
    },
    {
      "cell_type": "code",
      "source": [
        "# use the await keyword for the async function\n",
        "afroht_subreddit = await reddit.subreddit(\"AfroHairTransplant\")\n",
        "# apparently, if you use await then it doesn't load all the information from the subreddit\n",
        "# you need to use .load() to get more data\n",
        "await afroht_subreddit.load()\n",
        "print(f\"Title is {afroht_subreddit.title}\")\n",
        "print(f\"Description is {afroht_subreddit.public_description}\")\n",
        "print(afroht_subreddit.subscribers)\n",
        "\n"
      ],
      "metadata": {
        "colab": {
          "base_uri": "https://localhost:8080/"
        },
        "id": "ejqNgvIxhsUp",
        "outputId": "f7ab4df4-6c9c-4a79-8ba9-721de4763c45"
      },
      "execution_count": 18,
      "outputs": [
        {
          "output_type": "stream",
          "name": "stdout",
          "text": [
            "Title is AfroHairTransplant\n",
            "Welcome to r/afrohairtransplant – your dedicated space beyond r/HairTransplants! This community blossoms as a specialized corner for those rocking Afro-American, African, and Afro-Caribbean hair textures. Dive into a world where progress shares and questions about hair transplants take center stage, tailored just for our unique hair journey. Let's grow together!\n",
            "798\n",
            "AfroHairTransplant\n"
          ]
        }
      ]
    },
    {
      "cell_type": "code",
      "source": [
        "# iterate through as many submissions as you want on the subreddit\n",
        "n = 1\n",
        "async for submission in afroht_subreddit.new(limit=n):\n",
        "    await submission.load()\n",
        "    print(submission.selftext)\n",
        "    comments = await submission.comments()\n",
        "    # replace the 'More comments' link in long threads up to the defined limit\n",
        "    await comments.replace_more(limit=5)\n",
        "    # return a list that turns the comment forest structure into a flat list\n",
        "    # using breadth-first search\n",
        "    all_comments = await comments.list()\n",
        "    for comment in all_comments:\n",
        "        print(comment.body)"
      ],
      "metadata": {
        "colab": {
          "base_uri": "https://localhost:8080/"
        },
        "id": "_A3k9wKaii-3",
        "outputId": "18e39928-6c6b-4172-da2a-3bc143cedc04"
      },
      "execution_count": 40,
      "outputs": [
        {
          "output_type": "stream",
          "name": "stdout",
          "text": [
            "Is this much discoloration normal and if so when will it go back to normal. Also when does inflammation go down? Have looked things up obviously but at times people are anxious. \n",
            "The discolouration is just because the hair hasn't grown yet and it is healing. Once the hair grows it will blend it with the rest of the hair.\n",
            "What discolouration do you mean?\n",
            "how many grafts? which clinic?\n",
            "But if i cut into this side looks darker\n",
            "My skin is darker in the transplant area than other places. It makes it look more dense than it is\n",
            "It just healing bro. Give it few more weeks and you will see it will return to the same colour\n",
            "How far in the process are you?\n",
            "Thank you\n",
            "I just took scabs off I just was making sure that’s normal\n"
          ]
        }
      ]
    },
    {
      "cell_type": "code",
      "source": [
        "# I want to see if I can get the data in a json format which shows the tree level structure of the replies\n",
        "import json\n",
        "def get_comment_data(comment):\n",
        "    return {\n",
        "        'body': comment.body,\n",
        "        'upvotes': comment.score,\n",
        "        'author': comment.author.name if comment.author else 'None',\n",
        "        'replies': [get_comment_data(reply) for reply in comment.replies]\n",
        "    }\n",
        "\n",
        "# redefine submission so that I can use it properly for the next loop\n",
        "comments_data = []\n",
        "async for submission in afroht_subreddit.top(limit=50):\n",
        "    await submission.load()\n",
        "    await submission.comments.replace_more(limit=5)\n",
        "    # for each comment, append the author's name, body of the post, and the\n",
        "    # replies based on the get comment data function defined above\n",
        "    comments_data.append({\n",
        "        'title': submission.title,\n",
        "        'body': submission.selftext,\n",
        "        'upvotes': submission.score,\n",
        "        'author': submission.author.name if submission.author else 'None',\n",
        "        'replies': [get_comment_data(comment) for comment in submission.comments]\n",
        "    })\n",
        "\n",
        "\n",
        "with open(\"comments.json\", \"w\", encoding=\"utf-8\") as jsonfile:\n",
        "  json.dump(comments_data, jsonfile, ensure_ascii=False, indent=4)"
      ],
      "metadata": {
        "id": "Kuh6V7wsj7jS"
      },
      "execution_count": 59,
      "outputs": []
    },
    {
      "cell_type": "code",
      "source": [],
      "metadata": {
        "id": "xIYxhDLuTiFP"
      },
      "execution_count": null,
      "outputs": []
    },
    {
      "cell_type": "code",
      "source": [],
      "metadata": {
        "id": "FrL3XIFOAqL6"
      },
      "execution_count": null,
      "outputs": []
    }
  ]
}